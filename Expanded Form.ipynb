{
 "cells": [
  {
   "cell_type": "code",
   "execution_count": 19,
   "metadata": {
    "collapsed": true
   },
   "outputs": [],
   "source": [
    "# https://www.codewars.com/kata/write-number-in-expanded-form/train/python\n",
    "\n",
    "import functools # needed for code wars apparently\n",
    "def expanded_form(num):\n",
    "    str_form = str(num)[::-1]\n",
    "    valArr = []\n",
    "    for i in range(0, len(str_form)):\n",
    "        if str_form[i] == \"0\": continue\n",
    "        \n",
    "        valArr.insert(0, str_form[i] + (\"0\" * i))\n",
    "        \n",
    "        # this also works\n",
    "#     return functools.reduce(lambda x,y: x + \" + \" + y, valArr)\n",
    "    return ' + '.join(valArr)"
   ]
  },
  {
   "cell_type": "code",
   "execution_count": 21,
   "metadata": {},
   "outputs": [
    {
     "data": {
      "text/plain": [
       "'10000 + 70 + 2'"
      ]
     },
     "execution_count": 21,
     "metadata": {},
     "output_type": "execute_result"
    }
   ],
   "source": [
    "expanded_form(10072)"
   ]
  },
  {
   "cell_type": "code",
   "execution_count": 18,
   "metadata": {},
   "outputs": [],
   "source": [
    "# this was the top answer\n",
    "def expanded_form_CodeWars(n):\n",
    "    result = []\n",
    "    for a in range(len(str(n)) - 1, -1, -1):\n",
    "        current = 10 ** a\n",
    "        quo, n = divmod(n, current)\n",
    "        if quo:\n",
    "            result.append(str(quo * current))\n",
    "    return ' + '.join(result)"
   ]
  },
  {
   "cell_type": "code",
   "execution_count": null,
   "metadata": {
    "collapsed": true
   },
   "outputs": [],
   "source": []
  }
 ],
 "metadata": {
  "kernelspec": {
   "display_name": "Python 2",
   "language": "python",
   "name": "python2"
  },
  "language_info": {
   "codemirror_mode": {
    "name": "ipython",
    "version": 2
   },
   "file_extension": ".py",
   "mimetype": "text/x-python",
   "name": "python",
   "nbconvert_exporter": "python",
   "pygments_lexer": "ipython2",
   "version": "2.7.13"
  }
 },
 "nbformat": 4,
 "nbformat_minor": 2
}
