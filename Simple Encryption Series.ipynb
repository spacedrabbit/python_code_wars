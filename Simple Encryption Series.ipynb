{
 "cells": [
  {
   "cell_type": "code",
   "execution_count": 103,
   "metadata": {},
   "outputs": [],
   "source": [
    "import unittest\n",
    "\n",
    "def encrypt(text, n):\n",
    "    if n < 1:\n",
    "        return text\n",
    "    \n",
    "    for i in range(0, n):\n",
    "        text = text[1::2] + text[::2]\n",
    "        \n",
    "    return text\n",
    "\n",
    "def decrypt(encrypted_text, n):\n",
    "    if n < 1:\n",
    "        return encrypted_text\n",
    "    \n",
    "    add = \"\"\n",
    "    if len(encrypted_text) % 2 == 1:\n",
    "        add = encrypted_text[-1]\n",
    "    \n",
    "    for i in range(0, n):\n",
    "        mid = len(encrypted_text) / 2\n",
    "        a = encrypted_text[:mid]\n",
    "        b = encrypted_text[mid:]\n",
    "        \n",
    "        # problem is that zip will ignore an unpaired value...\n",
    "        encrypted_text = ''.join([x+y for x, y in zip(b, a)])\n",
    "\n",
    "    return encrypted_text + add\n"
   ]
  },
  {
   "cell_type": "code",
   "execution_count": 104,
   "metadata": {},
   "outputs": [
    {
     "name": "stdout",
     "output_type": "stream",
     "text": [
      "This is a test!\n",
      "hsi  etTi sats!\n",
      "s eT ashi tist!\n",
      " Tah itse sits!\n",
      "This is a test!\n",
      "This is a test!\n"
     ]
    }
   ],
   "source": [
    "print encrypt(\"This is a test!\", 0) #, \"This is a test!\")\n",
    "print encrypt(\"This is a test!\", 1) #, \"hsi  etTi sats!\")\n",
    "print encrypt(\"This is a test!\", 2) #, \"s eT ashi tist!\")\n",
    "print encrypt(\"This is a test!\", 3) #, \" Tah itse sits!\")\n",
    "print encrypt(\"This is a test!\", 4) #, \"This is a test!\")\n",
    "print encrypt(\"This is a test!\", -1) #, \"This is a test!\")"
   ]
  },
  {
   "cell_type": "code",
   "execution_count": 105,
   "metadata": {},
   "outputs": [
    {
     "name": "stdout",
     "output_type": "stream",
     "text": [
      "hsi  etTi sats!\n"
     ]
    }
   ],
   "source": [
    "a = \"This is a test!\"[::2]\n",
    "b = \"This is a test!\"[1::2]\n",
    "print b+a"
   ]
  },
  {
   "cell_type": "code",
   "execution_count": 106,
   "metadata": {},
   "outputs": [
    {
     "data": {
      "text/plain": [
       "'This is a test!'"
      ]
     },
     "execution_count": 106,
     "metadata": {},
     "output_type": "execute_result"
    }
   ],
   "source": [
    "decrypt(\"hsi  etTi sats!\", 1)"
   ]
  },
  {
   "cell_type": "code",
   "execution_count": 107,
   "metadata": {},
   "outputs": [
    {
     "data": {
      "text/plain": [
       "'This is a test!'"
      ]
     },
     "execution_count": 107,
     "metadata": {},
     "output_type": "execute_result"
    }
   ],
   "source": [
    "decrypt(\"s eT ashi tist!\", 2)"
   ]
  },
  {
   "cell_type": "code",
   "execution_count": 108,
   "metadata": {
    "collapsed": true
   },
   "outputs": [],
   "source": [
    "# code wars top solution\n",
    "def decrypt_cw(text, n):\n",
    "    if text in (\"\", None):\n",
    "        return text\n",
    "    \n",
    "    ndx = len(text) // 2 # this is floor division\n",
    "\n",
    "    for i in range(n):\n",
    "        a = text[:ndx]\n",
    "        b = text[ndx:]\n",
    "        text = \"\".join(b[i:i+1] + a[i:i+1] for i in range(ndx + 1))\n",
    "    return text\n",
    "\n",
    "\n",
    "\n",
    "def encrypt_cw(text, n):\n",
    "    for i in range(n):\n",
    "        text = text[1::2] + text[::2]\n",
    "    return text"
   ]
  },
  {
   "cell_type": "code",
   "execution_count": 112,
   "metadata": {},
   "outputs": [
    {
     "name": "stdout",
     "output_type": "stream",
     "text": [
      "Something\n"
     ]
    }
   ],
   "source": [
    "if None in (\"\", None, \"abs\"):\n",
    "    print \"Something\""
   ]
  },
  {
   "cell_type": "code",
   "execution_count": 115,
   "metadata": {},
   "outputs": [
    {
     "name": "stdout",
     "output_type": "stream",
     "text": [
      "3\n"
     ]
    }
   ],
   "source": [
    "ndx = len(\"this is\") // 2\n",
    "print ndx"
   ]
  },
  {
   "cell_type": "code",
   "execution_count": null,
   "metadata": {
    "collapsed": true
   },
   "outputs": [],
   "source": []
  }
 ],
 "metadata": {
  "kernelspec": {
   "display_name": "Python 2",
   "language": "python",
   "name": "python2"
  },
  "language_info": {
   "codemirror_mode": {
    "name": "ipython",
    "version": 2
   },
   "file_extension": ".py",
   "mimetype": "text/x-python",
   "name": "python",
   "nbconvert_exporter": "python",
   "pygments_lexer": "ipython2",
   "version": "2.7.13"
  }
 },
 "nbformat": 4,
 "nbformat_minor": 2
}
