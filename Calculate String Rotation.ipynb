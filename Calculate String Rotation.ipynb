{
 "cells": [
  {
   "cell_type": "code",
   "execution_count": 54,
   "metadata": {
    "collapsed": true
   },
   "outputs": [],
   "source": [
    "def shifted_diff(first, second):\n",
    "    # code here!\n",
    "    doubled = second * 2\n",
    "    print \"Doubled:\", doubled\n",
    "    if first not in doubled:\n",
    "        print \"Not in\"\n",
    "        return -1\n",
    "        \n",
    "    for i in range(0, len(doubled) - len(first) - 1):\n",
    "        substring = doubled[i:i+len(first)]\n",
    "        print \"Sub:\", substring\n",
    "        if substring == first:\n",
    "            return i\n",
    "            \n",
    "    return 0"
   ]
  },
  {
   "cell_type": "code",
   "execution_count": 48,
   "metadata": {},
   "outputs": [
    {
     "name": "stdout",
     "output_type": "stream",
     "text": [
      "eecoffeecoff\n",
      "Sub: eecoff\n",
      "Sub: ecoffe\n",
      "Sub: coffee\n",
      "2\n"
     ]
    }
   ],
   "source": [
    "print shifted_diff(\"coffee\", \"eecoff\") # => 2"
   ]
  },
  {
   "cell_type": "code",
   "execution_count": 47,
   "metadata": {},
   "outputs": [
    {
     "name": "stdout",
     "output_type": "stream",
     "text": [
      "coffeecoffee\n",
      "Sub: coffee\n",
      "Sub: offeec\n",
      "Sub: ffeeco\n",
      "Sub: feecof\n",
      "Sub: eecoff\n",
      "4\n",
      "MooseMoose\n",
      "-1\n",
      "'tisn'tisn\n",
      "Sub: 'tisn\n",
      "Sub: tisn'\n",
      "Sub: isn't\n",
      "2\n",
      "EshamEsham\n",
      "Sub: Esham\n",
      "0\n",
      "godgod\n",
      "-1\n"
     ]
    }
   ],
   "source": [
    "print shifted_diff(\"eecoff\", \"coffee\") #=> 4\n",
    "print shifted_diff(\"moose\", \"Moose\") # => nil\n",
    "print shifted_diff(\"isn't\", \"'tisn\") # => 2\n",
    "print shifted_diff(\"Esham\", \"Esham\") # => 0\n",
    "print shifted_diff(\"dog\", \"god\") # => nil"
   ]
  },
  {
   "cell_type": "code",
   "execution_count": 55,
   "metadata": {},
   "outputs": [
    {
     "name": "stdout",
     "output_type": "stream",
     "text": [
      "Doubled:   \n",
      "0\n"
     ]
    }
   ],
   "source": [
    "print shifted_diff(\" \", \" \") # => nil"
   ]
  },
  {
   "cell_type": "code",
   "execution_count": 57,
   "metadata": {},
   "outputs": [
    {
     "name": "stdout",
     "output_type": "stream",
     "text": [
      "Doubled: shit is bananasthis shit is bananasthis \n",
      "Sub: shit is bananasthis \n",
      "Sub: hit is bananasthis s\n",
      "Sub: it is bananasthis sh\n",
      "Sub: t is bananasthis shi\n",
      "Sub:  is bananasthis shit\n",
      "Sub: is bananasthis shit \n",
      "Sub: s bananasthis shit i\n",
      "Sub:  bananasthis shit is\n",
      "Sub: bananasthis shit is \n",
      "Sub: ananasthis shit is b\n",
      "Sub: nanasthis shit is ba\n",
      "Sub: anasthis shit is ban\n",
      "Sub: nasthis shit is bana\n",
      "Sub: asthis shit is banan\n",
      "Sub: sthis shit is banana\n",
      "Sub: this shit is bananas\n",
      "15\n"
     ]
    }
   ],
   "source": [
    "print shifted_diff(\"this shit is bananas\",\"shit is bananasthis \")"
   ]
  },
  {
   "cell_type": "code",
   "execution_count": 58,
   "metadata": {},
   "outputs": [
    {
     "name": "stdout",
     "output_type": "stream",
     "text": [
      "Doubled: nanasthis shit is bananasthis shit is ba\n",
      "Sub: nanasthis shit is ba\n",
      "Sub: anasthis shit is ban\n",
      "Sub: nasthis shit is bana\n",
      "Sub: asthis shit is banan\n",
      "Sub: sthis shit is banana\n",
      "Sub: this shit is bananas\n",
      "5\n"
     ]
    }
   ],
   "source": [
    "print shifted_diff(\"this shit is bananas\",\"nanasthis shit is ba\")"
   ]
  },
  {
   "cell_type": "code",
   "execution_count": 79,
   "metadata": {
    "collapsed": true
   },
   "outputs": [],
   "source": [
    "def filter_list(l):\n",
    "  'return a new list with the strings filtered out'\n",
    "  return [ints for ints in l if str(ints).isdigit()]"
   ]
  },
  {
   "cell_type": "code",
   "execution_count": 80,
   "metadata": {},
   "outputs": [
    {
     "data": {
      "text/plain": [
       "[]"
      ]
     },
     "execution_count": 80,
     "metadata": {},
     "output_type": "execute_result"
    }
   ],
   "source": [
    "filter_list([1, 2, 3, \"1\"])"
   ]
  },
  {
   "cell_type": "code",
   "execution_count": null,
   "metadata": {},
   "outputs": [],
   "source": []
  },
  {
   "cell_type": "code",
   "execution_count": 73,
   "metadata": {},
   "outputs": [
    {
     "data": {
      "text/plain": [
       "<function isdigit>"
      ]
     },
     "execution_count": 73,
     "metadata": {},
     "output_type": "execute_result"
    }
   ],
   "source": [
    "a = \"a\"\n",
    "a.isdigit"
   ]
  },
  {
   "cell_type": "code",
   "execution_count": null,
   "metadata": {
    "collapsed": true
   },
   "outputs": [],
   "source": []
  }
 ],
 "metadata": {
  "kernelspec": {
   "display_name": "Python 2",
   "language": "python",
   "name": "python2"
  },
  "language_info": {
   "codemirror_mode": {
    "name": "ipython",
    "version": 2
   },
   "file_extension": ".py",
   "mimetype": "text/x-python",
   "name": "python",
   "nbconvert_exporter": "python",
   "pygments_lexer": "ipython2",
   "version": "2.7.13"
  }
 },
 "nbformat": 4,
 "nbformat_minor": 2
}
