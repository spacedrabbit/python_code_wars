{
 "cells": [
  {
   "cell_type": "code",
   "execution_count": 11,
   "metadata": {},
   "outputs": [],
   "source": [
    "# https://www.codewars.com/kata/52774a314c2333f0a7000688/train/python\n",
    "\n",
    "def valid_parentheses(string):\n",
    "    paren_stack = []\n",
    "    if string.isspace(): return False\n",
    "    \n",
    "    for i in string:\n",
    "        if i == \"(\":\n",
    "            paren_stack.append(i)\n",
    "        elif i == \")\":\n",
    "            if len(paren_stack) > 0 and paren_stack[-1] == \"(\":\n",
    "                paren_stack.pop()\n",
    "                continue\n",
    "            else:\n",
    "                return False\n",
    "        else: # any other char\n",
    "          pass\n",
    "          \n",
    "    if len(paren_stack) == 0:\n",
    "        return True\n",
    "        \n",
    "    return False\n"
   ]
  },
  {
   "cell_type": "code",
   "execution_count": 13,
   "metadata": {},
   "outputs": [
    {
     "name": "stdout",
     "output_type": "stream",
     "text": [
      "False\n",
      "False\n",
      "True\n",
      "False\n",
      "True\n"
     ]
    }
   ],
   "source": [
    "print valid_parentheses(\"  (\") # False\n",
    "print valid_parentheses(\")test\") # False\n",
    "print valid_parentheses(\"\") # True\n",
    "print valid_parentheses(\"hi())(\") # False\n",
    "print valid_parentheses(\"hi(hi)()\") # True"
   ]
  },
  {
   "cell_type": "code",
   "execution_count": 8,
   "metadata": {},
   "outputs": [],
   "source": [
    "# clever solution :)\n",
    "def valid_parentheses_codeWars(string):\n",
    "    cnt = 0\n",
    "    for char in string:\n",
    "        if char == '(': cnt += 1\n",
    "        if char == ')': cnt -= 1\n",
    "        if cnt < 0: return False\n",
    "    return True if cnt == 0 else False"
   ]
  },
  {
   "cell_type": "code",
   "execution_count": null,
   "metadata": {
    "collapsed": true
   },
   "outputs": [],
   "source": []
  }
 ],
 "metadata": {
  "kernelspec": {
   "display_name": "Python 2",
   "language": "python",
   "name": "python2"
  },
  "language_info": {
   "codemirror_mode": {
    "name": "ipython",
    "version": 2
   },
   "file_extension": ".py",
   "mimetype": "text/x-python",
   "name": "python",
   "nbconvert_exporter": "python",
   "pygments_lexer": "ipython2",
   "version": "2.7.13"
  }
 },
 "nbformat": 4,
 "nbformat_minor": 2
}
