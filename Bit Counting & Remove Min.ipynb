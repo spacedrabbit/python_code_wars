{
 "cells": [
  {
   "cell_type": "markdown",
   "metadata": {},
   "source": [
    "# Bit Counting\n",
    "\n",
    "Write a function that takes an (unsigned) integer as input, and returns the number of bits that are equal to one in the binary representation of that number.\n",
    "\n",
    "### Example:\n",
    "\n",
    "The binary representation of `1234` is `10011010010`, so the function should return `5` in this case"
   ]
  },
  {
   "cell_type": "code",
   "execution_count": 5,
   "metadata": {
    "collapsed": true
   },
   "outputs": [],
   "source": [
    "def countBits(n):\n",
    "    count = 0\n",
    "    while n > 0:\n",
    "        count += (n & 1)\n",
    "        n = n >> 1\n",
    "        \n",
    "    return count"
   ]
  },
  {
   "cell_type": "code",
   "execution_count": 6,
   "metadata": {},
   "outputs": [
    {
     "name": "stdout",
     "output_type": "stream",
     "text": [
      "5\n"
     ]
    }
   ],
   "source": [
    "print countBits(1234)"
   ]
  },
  {
   "cell_type": "markdown",
   "metadata": {},
   "source": [
    "# Remove the Min\n",
    "\n",
    "Given an array of integers, remove the smallest value. Do not mutate the original array/list. If there are multiple elements with the same value, remove the one with a lower index. If you get an empty array/list, return an empty array/list.\n",
    "\n",
    "Don't change the order of the elements that are left.\n",
    "\n",
    "### Examples\n",
    "\n",
    "```python\n",
    "remove_smallest([1,2,3,4,5]) = [2,3,4,5]\n",
    "remove_smallest([5,3,2,1,4]) = [5,3,2,4]\n",
    "remove_smallest([2,2,1,2,1]) = [2,2,2,1]\n",
    "```"
   ]
  },
  {
   "cell_type": "code",
   "execution_count": 7,
   "metadata": {
    "collapsed": true
   },
   "outputs": [],
   "source": [
    "def remove_smallest(numbers):\n",
    "    if len(numbers) < 1: \n",
    "        return numbers\n",
    "    \n",
    "    idx = numbers.index(min(numbers))\n",
    "    return numbers[0:idx] + numbers[idx+1:]"
   ]
  },
  {
   "cell_type": "code",
   "execution_count": 8,
   "metadata": {},
   "outputs": [
    {
     "name": "stdout",
     "output_type": "stream",
     "text": [
      "[5, 3, 2, 4]\n"
     ]
    }
   ],
   "source": [
    "print remove_smallest([5,3,2,1,4])"
   ]
  },
  {
   "cell_type": "code",
   "execution_count": null,
   "metadata": {
    "collapsed": true
   },
   "outputs": [],
   "source": []
  }
 ],
 "metadata": {
  "kernelspec": {
   "display_name": "Python 2",
   "language": "python",
   "name": "python2"
  },
  "language_info": {
   "codemirror_mode": {
    "name": "ipython",
    "version": 2
   },
   "file_extension": ".py",
   "mimetype": "text/x-python",
   "name": "python",
   "nbconvert_exporter": "python",
   "pygments_lexer": "ipython2",
   "version": "2.7.13"
  }
 },
 "nbformat": 4,
 "nbformat_minor": 2
}
