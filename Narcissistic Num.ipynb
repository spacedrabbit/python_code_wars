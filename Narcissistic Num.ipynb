{
 "cells": [
  {
   "cell_type": "markdown",
   "metadata": {},
   "source": [
    "# Does my number look big in this?\n",
    "\n",
    "A [Narcissistic Number](https://en.wikipedia.org/wiki/Narcissistic_number) is a number which is the sum of its own digits, each raised to the power of the number of digits.\n",
    "\n",
    "### Examples\n",
    "\n",
    "**For example, take 153 (3 digits):**\n",
    "`1^3 + 5^3 + 3^3 = 1 + 125 + 27 = 153`\n",
    "\n",
    "**and 1634 (4 digits):**\n",
    "`1^4 + 6^4 + 3^4 + 4^4 = 1 + 1296 + 81 + 256 = 1634`\n",
    "\n",
    "### Challenge:\n",
    "\n",
    "Your code must return true or false depending upon whether the given number is a Narcissistic number.\n",
    "\n",
    "Error checking for text strings or other invalid inputs is not required, only valid integers will be passed into the function."
   ]
  },
  {
   "cell_type": "code",
   "execution_count": 25,
   "metadata": {},
   "outputs": [],
   "source": [
    "from functools import reduce\n",
    "def narcissistic( value ):\n",
    "    num = int(value)\n",
    "    numL = []\n",
    "    while num > 0:\n",
    "        numL.append(num % 10)\n",
    "        num /= 10\n",
    "\n",
    "    narc = reduce(lambda x,y: x+y ,map(lambda x: x**len(numL), numL))\n",
    "    return value == narc"
   ]
  },
  {
   "cell_type": "code",
   "execution_count": 28,
   "metadata": {},
   "outputs": [
    {
     "data": {
      "text/plain": [
       "False"
      ]
     },
     "execution_count": 28,
     "metadata": {},
     "output_type": "execute_result"
    }
   ],
   "source": [
    "narcissistic(1633)"
   ]
  },
  {
   "cell_type": "code",
   "execution_count": 33,
   "metadata": {
    "collapsed": true
   },
   "outputs": [],
   "source": [
    "def better_narc( value ):\n",
    "    print value==sum([int(i)**len(str(value)) for i in str(value)])"
   ]
  },
  {
   "cell_type": "code",
   "execution_count": 34,
   "metadata": {},
   "outputs": [
    {
     "name": "stdout",
     "output_type": "stream",
     "text": [
      "True\n"
     ]
    }
   ],
   "source": [
    "better_narc(153)"
   ]
  },
  {
   "cell_type": "code",
   "execution_count": 56,
   "metadata": {},
   "outputs": [
    {
     "name": "stdout",
     "output_type": "stream",
     "text": [
      "A B C\n"
     ]
    }
   ],
   "source": [
    "word = \"AWUBWUBWUBBWUBWUBWUBC\"\n",
    "word = word.split(\"WUB\")\n",
    "word = [i for i in word if i != '']\n",
    "word = ' '.join(word)\n",
    "print word"
   ]
  },
  {
   "cell_type": "code",
   "execution_count": 64,
   "metadata": {},
   "outputs": [
    {
     "name": "stdout",
     "output_type": "stream",
     "text": [
      "A B C\n"
     ]
    }
   ],
   "source": [
    "word1 = \"AWUBWUBWUBBWUBWUBWUBC\".split(\"WUB\")\n",
    "word1 = ' '.join([i for i in word1 if i != ''])\n",
    "print word1"
   ]
  },
  {
   "cell_type": "code",
   "execution_count": 67,
   "metadata": {
    "collapsed": true
   },
   "outputs": [],
   "source": [
    "def song_decoder(song):\n",
    "    nowubs = song.split(\"WUB\")\n",
    "    return ' '.join([i for i in nowubs if i])\n",
    "\n",
    "\n",
    "def better_song_decoder(song):\n",
    "    return \" \".join(song.replace('WUB', ' ').split())"
   ]
  },
  {
   "cell_type": "code",
   "execution_count": 66,
   "metadata": {},
   "outputs": [
    {
     "data": {
      "text/plain": [
       "'A B C'"
      ]
     },
     "execution_count": 66,
     "metadata": {},
     "output_type": "execute_result"
    }
   ],
   "source": [
    "song_decoder(\"AWUBWUBWUBBWUBWUBWUBC\")"
   ]
  },
  {
   "cell_type": "code",
   "execution_count": 70,
   "metadata": {},
   "outputs": [
    {
     "data": {
      "text/plain": [
       "['A', 'B', 'C']"
      ]
     },
     "execution_count": 70,
     "metadata": {},
     "output_type": "execute_result"
    }
   ],
   "source": [
    "\"AWUBWUBWUBBWUBWUBWUBC\".replace('WUB', ' ').split()"
   ]
  },
  {
   "cell_type": "code",
   "execution_count": null,
   "metadata": {
    "collapsed": true
   },
   "outputs": [],
   "source": []
  }
 ],
 "metadata": {
  "kernelspec": {
   "display_name": "Python 2",
   "language": "python",
   "name": "python2"
  },
  "language_info": {
   "codemirror_mode": {
    "name": "ipython",
    "version": 2
   },
   "file_extension": ".py",
   "mimetype": "text/x-python",
   "name": "python",
   "nbconvert_exporter": "python",
   "pygments_lexer": "ipython2",
   "version": "2.7.13"
  }
 },
 "nbformat": 4,
 "nbformat_minor": 2
}
